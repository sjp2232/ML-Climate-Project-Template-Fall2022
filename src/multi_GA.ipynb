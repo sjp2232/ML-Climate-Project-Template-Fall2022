{
 "cells": [
  {
   "cell_type": "code",
   "execution_count": null,
   "metadata": {},
   "outputs": [],
   "source": [
    "import csv\n",
    "import numpy as np\n",
    "import math\n",
    "import random\n",
    "from geneticalgorithm2 import geneticalgorithm2 as ga \n",
    "from scipy.spatial.distance import cdist\n",
    "import pandas as pd\n",
    "np.warnings.filterwarnings('ignore', category=np.VisibleDeprecationWarning)  "
   ]
  },
  {
   "cell_type": "code",
   "execution_count": null,
   "metadata": {},
   "outputs": [],
   "source": [
    "def get_offshore_dist(center):\n",
    "    return 0\n",
    "\n",
    "def get_array_dist(solution,center):\n",
    "    return 0\n",
    "\n",
    "def center_point(solution):\n",
    "    return 0\n",
    "def cable_total(solution):\n",
    "    center = center_point(solution)\n",
    "\n",
    "    export = get_offshore_dist(center)\n",
    "    array = get_array_dist(solution,center)\n",
    "    return export + array"
   ]
  },
  {
   "cell_type": "code",
   "execution_count": null,
   "metadata": {},
   "outputs": [],
   "source": [
    "interactions = []\n",
    "#import all the interaction matricies created beforehand and add to array (flattened versions of the matrices)\n",
    "for i in range(50):\n",
    "    for j in range(50):\n",
    "        mat = np.loadtxt(open(\"interactionMats/\"+str(i)+\"_\"+str(j)+\".csv\", \"rb\"), delimiter=\",\", skiprows=0)\n",
    "        arr = np.array(mat).flatten()\n",
    "\n",
    "        interactions.append(arr)"
   ]
  },
  {
   "cell_type": "code",
   "execution_count": 1,
   "metadata": {},
   "outputs": [
    {
     "ename": "NameError",
     "evalue": "name 'np' is not defined",
     "output_type": "error",
     "traceback": [
      "\u001b[1;31m---------------------------------------------------------------------------\u001b[0m",
      "\u001b[1;31mNameError\u001b[0m                                 Traceback (most recent call last)",
      "\u001b[1;32md:\\ML-Climate-Project-Template-Fall2022\\src\\multi_GA.ipynb Cell 3\u001b[0m in \u001b[0;36m<cell line: 18>\u001b[1;34m()\u001b[0m\n\u001b[0;32m     <a href='vscode-notebook-cell:/d%3A/ML-Climate-Project-Template-Fall2022/src/multi_GA.ipynb#W3sZmlsZQ%3D%3D?line=15'>16</a>\u001b[0m         wake \u001b[39m+\u001b[39m\u001b[39m=\u001b[39m tot\n\u001b[0;32m     <a href='vscode-notebook-cell:/d%3A/ML-Climate-Project-Template-Fall2022/src/multi_GA.ipynb#W3sZmlsZQ%3D%3D?line=16'>17</a>\u001b[0m     \u001b[39mreturn\u001b[39;00m wake\n\u001b[1;32m---> <a href='vscode-notebook-cell:/d%3A/ML-Climate-Project-Template-Fall2022/src/multi_GA.ipynb#W3sZmlsZQ%3D%3D?line=17'>18</a>\u001b[0m \u001b[39mdef\u001b[39;00m \u001b[39mmake_arr\u001b[39m(ones: np\u001b[39m.\u001b[39mndarray):\n\u001b[0;32m     <a href='vscode-notebook-cell:/d%3A/ML-Climate-Project-Template-Fall2022/src/multi_GA.ipynb#W3sZmlsZQ%3D%3D?line=18'>19</a>\u001b[0m     arr \u001b[39m=\u001b[39m [\u001b[39m0\u001b[39m] \u001b[39m*\u001b[39m \u001b[39m2500\u001b[39m\n\u001b[0;32m     <a href='vscode-notebook-cell:/d%3A/ML-Climate-Project-Template-Fall2022/src/multi_GA.ipynb#W3sZmlsZQ%3D%3D?line=19'>20</a>\u001b[0m     \u001b[39mfor\u001b[39;00m i \u001b[39min\u001b[39;00m ones:\n",
      "\u001b[1;31mNameError\u001b[0m: name 'np' is not defined"
     ]
    }
   ],
   "source": [
    "\n",
    "def fitness_func(solution):\n",
    "    #add all the interaction values\n",
    "    wake = 0\n",
    "    ones = []\n",
    "\n",
    "    for i in range(2500):\n",
    "        if solution[i] == 1:\n",
    "            ones.append(i)\n",
    "    if len(ones) > 50:\n",
    "        return 1000000\n",
    "\n",
    "    for i in ones:\n",
    "        tot = 0\n",
    "        for j in ones:\n",
    "            tot += interactions[i][j]\n",
    "        wake += tot\n",
    "    return wake\n",
    "def make_arr(ones: np.ndarray):\n",
    "    arr = [0] * 2500\n",
    "    for i in ones:\n",
    "        arr[i] = 1\n",
    "    return np.array(arr)\n",
    "def make_random(number, turbine):\n",
    "    pop = []\n",
    "    for i in range(number):\n",
    "        turbines = np.random.choice(np.arange(0, 2500), turbine, replace = False)\n",
    "        binary =  make_arr(turbines)\n",
    "        wake = fitness_func(binary)\n",
    "\n",
    "        pop.append([binary,wake])\n",
    "    return np.array(pop)\n",
    "def sort_tot(pop):\n",
    "    #sort by the wake values\n",
    "    return pop[np.argsort(pop[:,1])]"
   ]
  },
  {
   "cell_type": "code",
   "execution_count": null,
   "metadata": {},
   "outputs": [],
   "source": [
    "def rand_mutation(bitstring, prob):\n",
    "   \n",
    "    if np.random.rand() < prob:\n",
    "        lens = len(bitstring)\n",
    "        i = int(np.random.rand() * lens)\n",
    "\n",
    "        # flip the bit and one with opposite value (to keep same number of turbines)\n",
    "        prev = np.copy(bitstring[i])\n",
    "        opp = np.where(bitstring == (1-prev))[0]\n",
    "        bitstring[i] = 1 - np.copy(prev)\n",
    "\n",
    "        bitstring[  opp[int(np.random.rand()*len(opp))]  ] = np.copy(prev)\n",
    "    return bitstring\n",
    "\n",
    "def uniform_crossover(x: np.ndarray, y: np.ndarray):\n",
    "    #randomly selects 1's from either sides\n",
    "    x1 = np.where(x == 1)[0]\n",
    "    y1 = np.where(y == 1)[0]\n",
    "\n",
    "    ofs1 = []\n",
    "    ofs2 = []\n",
    "    \n",
    "    all = list(set(x1) | set(y1))\n",
    "\n",
    "    ofs1 = random.sample(all,50)\n",
    "    ofs2 = random.sample(all,50)\n",
    "\n",
    "\n",
    "    ofs1 = make_arr(ofs1)\n",
    "    ofs2 = make_arr(ofs2)    \n",
    "    return [ofs1, ofs2]\n",
    "\n",
    "def tournament_selection(pop,proportion):\n",
    "    #ramdomly select 4 parents and pick 2 in each block according to thier fitness\n",
    "    pairs = [] #indexes of parents \n",
    "    scores = pop[:,1]\n",
    "    parents = np.random.choice(a=np.arange(0,scores.size),size=(int(scores.size*proportion)*2),replace=True)\n",
    "\n",
    "        \n",
    "    for i in range(int(parents.size/4)):\n",
    "\n",
    "        ratings1 = np.argsort(pop[parents[i*4:(i*4)+2],1])\n",
    "        ratings2 = np.argsort(pop[parents[i*4+2:(i*4)+4],1])\n",
    "\n",
    "        if ratings1[0] != ratings2[0]:\n",
    "            pairs.append([pop[parents[(i*4)+ratings1[0]]][0],pop[parents[(i*4)+ratings2[0]]][0]])\n",
    "        else:\n",
    "\n",
    "\n",
    "            new2 = ratings2[1]\n",
    "            while new2 != ratings1[0]:\n",
    "                #we pick random since both selected for 2 are same as 1 (we do not want to use that picked for round 1 since it is known to be worse)\n",
    "                new2 = np.random.randint(0,high=scores.size)\n",
    "\n",
    "            pairs.append([pop[parents[(i*4)+ratings1[0]]][0],pop[new2][0]])\n",
    "\n",
    "    return pairs\n"
   ]
  }
 ],
 "metadata": {
  "kernelspec": {
   "display_name": "Python 3.9.12 ('base')",
   "language": "python",
   "name": "python3"
  },
  "language_info": {
   "codemirror_mode": {
    "name": "ipython",
    "version": 3
   },
   "file_extension": ".py",
   "mimetype": "text/x-python",
   "name": "python",
   "nbconvert_exporter": "python",
   "pygments_lexer": "ipython3",
   "version": "3.9.12"
  },
  "orig_nbformat": 4,
  "vscode": {
   "interpreter": {
    "hash": "5179d32cf6ec497baf3f8a3ef987cc77c5d2dc691fdde20a56316522f61a7323"
   }
  }
 },
 "nbformat": 4,
 "nbformat_minor": 2
}
