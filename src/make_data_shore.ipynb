{
 "cells": [
  {
   "cell_type": "code",
   "execution_count": 1,
   "metadata": {},
   "outputs": [],
   "source": [
    "import geopy.distance\n",
    "import csv\n",
    "import numpy as np\n",
    "import pandas as pd"
   ]
  },
  {
   "cell_type": "code",
   "execution_count": 2,
   "metadata": {},
   "outputs": [],
   "source": [
    "top_left_long = 28.97726\n",
    "top_left_lat = -94.49806\n",
    "\n",
    "#make a 50x50 cell area - 140m x 140m squares - 7 miles in both direction\n",
    "seven_miles = 0.06315\n",
    "\n",
    "\n",
    "longs= [ top_left_long - (seven_miles/50*i) for i in range(50) ]\n",
    "lats = [ top_left_lat  + (seven_miles/50*i) for i in range(50) ]\n",
    "\n",
    "shore = (29.294599, -94.781551)"
   ]
  },
  {
   "cell_type": "code",
   "execution_count": 3,
   "metadata": {},
   "outputs": [],
   "source": [
    "distances = []\n",
    "for lat in lats:\n",
    "    for long in longs:\n",
    "\n",
    "        distances.append( (geopy.distance.geodesic( (long, lat),shore ).km) * 1000)"
   ]
  },
  {
   "cell_type": "code",
   "execution_count": 4,
   "metadata": {},
   "outputs": [],
   "source": [
    "distances_mat = np.array(distances).reshape(50,50, order='F')\n",
    "\n",
    "np.savetxt(\"shore.csv\", distances_mat, delimiter=\",\")"
   ]
  }
 ],
 "metadata": {
  "kernelspec": {
   "display_name": "Python 3.9.12 ('base')",
   "language": "python",
   "name": "python3"
  },
  "language_info": {
   "codemirror_mode": {
    "name": "ipython",
    "version": 3
   },
   "file_extension": ".py",
   "mimetype": "text/x-python",
   "name": "python",
   "nbconvert_exporter": "python",
   "pygments_lexer": "ipython3",
   "version": "3.9.12"
  },
  "orig_nbformat": 4,
  "vscode": {
   "interpreter": {
    "hash": "5179d32cf6ec497baf3f8a3ef987cc77c5d2dc691fdde20a56316522f61a7323"
   }
  }
 },
 "nbformat": 4,
 "nbformat_minor": 2
}
