{
 "cells": [
  {
   "cell_type": "code",
   "execution_count": 1,
   "metadata": {},
   "outputs": [],
   "source": [
    "import pandas as pd\n",
    "import numpy as np\n",
    "import os"
   ]
  },
  {
   "cell_type": "code",
   "execution_count": 16,
   "metadata": {},
   "outputs": [],
   "source": [
    "df_2019 = pd.read_csv(\"42035h2019.csv\",delimiter=',',header=1)\n",
    "df_2020 = pd.read_csv(\"42035h2020.csv\",delimiter=',',header=1)\n",
    "df_2021 = pd.read_csv(\"42035h2021.csv\",delimiter=',',header=1)"
   ]
  },
  {
   "cell_type": "code",
   "execution_count": 27,
   "metadata": {},
   "outputs": [],
   "source": [
    "arr_2019 = [[(lambda d: int(d/10)*10 if d != 360 else 0)(d),s] for d,s in zip(df_2019[\"degT\"],df_2019[\"m/s\"]) if d != 999]\n",
    "arr_2020 = [[(lambda d: int(d/10)*10 if d != 360 else 0)(d),s] for d,s in zip(df_2020[\"degT\"],df_2020[\"m/s\"]) if d != 999]\n",
    "arr_2021 = [[(lambda d: int(d/10)*10 if d != 360 else 0)(d),s] for d,s in zip(df_2021[\"degT\"],df_2021[\"m/s\"]) if d != 999]\n",
    "\n"
   ]
  },
  {
   "cell_type": "code",
   "execution_count": 31,
   "metadata": {},
   "outputs": [],
   "source": [
    "arr_all = arr_2019 + arr_2020 + arr_2021\n",
    "df_all = pd.DataFrame(arr_all)\n",
    "df_all[\"prob\"] = 1/len(arr_all)"
   ]
  },
  {
   "cell_type": "code",
   "execution_count": 40,
   "metadata": {},
   "outputs": [],
   "source": [
    "df_all2 = df_all.groupby([0]).mean()\n",
    "\n",
    "df_all =df_all.drop([1])\n",
    "df_all3 = df_all.groupby([0]).sum()"
   ]
  },
  {
   "cell_type": "code",
   "execution_count": 45,
   "metadata": {},
   "outputs": [],
   "source": [
    "df_final = pd.DataFrame()\n",
    "\n",
    "df_final['dir'] =  list(df_all2.index)\n",
    "df_final['speed'] =  list(df_all2[1])\n",
    "df_final['prob'] =  list(df_all3['prob'])"
   ]
  },
  {
   "cell_type": "code",
   "execution_count": 46,
   "metadata": {},
   "outputs": [],
   "source": [
    "df_final.to_csv(\"wind.csv\",index=False)"
   ]
  }
 ],
 "metadata": {
  "kernelspec": {
   "display_name": "Python 3.9.12 ('base')",
   "language": "python",
   "name": "python3"
  },
  "language_info": {
   "codemirror_mode": {
    "name": "ipython",
    "version": 3
   },
   "file_extension": ".py",
   "mimetype": "text/x-python",
   "name": "python",
   "nbconvert_exporter": "python",
   "pygments_lexer": "ipython3",
   "version": "3.9.12"
  },
  "orig_nbformat": 4,
  "vscode": {
   "interpreter": {
    "hash": "5179d32cf6ec497baf3f8a3ef987cc77c5d2dc691fdde20a56316522f61a7323"
   }
  }
 },
 "nbformat": 4,
 "nbformat_minor": 2
}
