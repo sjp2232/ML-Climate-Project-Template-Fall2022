{
 "cells": [
  {
   "cell_type": "code",
   "execution_count": 141,
   "metadata": {},
   "outputs": [],
   "source": [
    "import csv\n",
    "import numpy as np\n",
    "import math\n",
    "import random\n",
    "from geneticalgorithm2 import geneticalgorithm2 as ga "
   ]
  },
  {
   "cell_type": "code",
   "execution_count": 2,
   "metadata": {},
   "outputs": [],
   "source": [
    "interactions = []\n",
    "#import all the interaction matricies created beforehand and add to array (flattened versions of the matrices)\n",
    "for i in range(50):\n",
    "    for j in range(50):\n",
    "        mat = np.loadtxt(open(\"interactionMats/\"+str(i)+\"_\"+str(j)+\".csv\", \"rb\"), delimiter=\",\", skiprows=0)\n",
    "        arr = np.array(mat).flatten()\n",
    "\n",
    "        interactions.append(arr)"
   ]
  },
  {
   "cell_type": "code",
   "execution_count": 3,
   "metadata": {},
   "outputs": [],
   "source": [
    "def fitness_func(solution):\n",
    "    #add all the interaction values\n",
    "    wake = 0\n",
    "    ones = []\n",
    "\n",
    "    for i in range(2500):\n",
    "        if solution[i] == 1:\n",
    "            ones.append(i)\n",
    "    if len(ones) > 50:\n",
    "        return 1000000\n",
    "\n",
    "    for i in ones:\n",
    "        tot = 0\n",
    "        for j in ones:\n",
    "            tot += interactions[i][j]\n",
    "        wake += tot\n",
    "    return wake"
   ]
  },
  {
   "cell_type": "code",
   "execution_count": null,
   "metadata": {},
   "outputs": [],
   "source": []
  },
  {
   "cell_type": "code",
   "execution_count": 4,
   "metadata": {},
   "outputs": [],
   "source": [
    "def inversion_mutation(bitstring,prob):\n",
    "    if np.random.rand() < prob:\n",
    "        s = int(np.random.rand() * len(bitstring) )\n",
    "        e = len(bitstring) - int((np.random.rand() * min(20,(len(bitstring) - s)))) - 1\n",
    "\n",
    "        new_string =np.flip(np.copy(bitstring[s:e+1]))\n",
    "\n",
    "        for i in range(s,e+1):\n",
    "\n",
    "            bitstring[i] = new_string[i-s]\n",
    "    return bitstring"
   ]
  },
  {
   "cell_type": "code",
   "execution_count": null,
   "metadata": {},
   "outputs": [],
   "source": []
  },
  {
   "cell_type": "code",
   "execution_count": 129,
   "metadata": {},
   "outputs": [],
   "source": [
    "def scramble_mutation(bitstring,prob):\n",
    "    if np.random.rand() < prob:\n",
    "        s = int(np.random.rand() * len(bitstring) )\n",
    "        e = len(bitstring) - int((np.random.rand() * min(20,(len(bitstring) - s)))) - 1\n",
    "\n",
    "        new_string =np.copy(bitstring[s:e+1])\n",
    "        np.random.shuffle(new_string)\n",
    "        for i in range(s,e+1):\n",
    "            bitstring[i] = new_string[i-s]\n",
    "    return bitstring"
   ]
  },
  {
   "cell_type": "code",
   "execution_count": 6,
   "metadata": {},
   "outputs": [],
   "source": [
    "def swap_mutation(bitstring,prob):\n",
    "    lens = len(bitstring)\n",
    "\n",
    "    if np.random.rand() < prob:\n",
    "        i = int(np.random.rand() * lens)\n",
    "\n",
    "        # flip the bit and one with one on opposite end\n",
    "        curr = np.copy(bitstring[i])\n",
    "        prev = np.copy(bitstring[lens - i - 1])\n",
    "        bitstring[i] = prev\n",
    "        bitstring[lens - i - 1] = curr\n",
    "\n",
    "    return bitstring"
   ]
  },
  {
   "cell_type": "code",
   "execution_count": null,
   "metadata": {},
   "outputs": [],
   "source": []
  },
  {
   "cell_type": "code",
   "execution_count": 95,
   "metadata": {},
   "outputs": [],
   "source": [
    "def rand_mutation(bitstring, prob):\n",
    "\tlens = len(bitstring)\n",
    "\n",
    "\t\t\n",
    "\tif np.random.rand() < prob:\n",
    "\t\ti = int(np.random.rand() * lens)\n",
    "\n",
    "\t\t# flip the bit and one with opposite value (to keep same number of turbines)\n",
    "\t\tprev = np.copy(bitstring[i])\n",
    "\t\topp = np.where(bitstring == (1-prev))[0]\n",
    "\t\tbitstring[i] = 1 - np.copy(prev)\n",
    "\n",
    "\t\tbitstring[  opp[int(np.random.rand()*len(opp))]  ] = np.copy(prev)\n",
    "\n",
    "\n",
    "\treturn bitstring"
   ]
  },
  {
   "cell_type": "code",
   "execution_count": 139,
   "metadata": {},
   "outputs": [],
   "source": [
    "def make_arr(ones: np.ndarray):\n",
    "    arr = [0] * 2500\n",
    "    for i in ones:\n",
    "        arr[i] = 1\n",
    "    return np.array(arr)"
   ]
  },
  {
   "cell_type": "code",
   "execution_count": 16,
   "metadata": {},
   "outputs": [],
   "source": [
    "def uniform_crossover(x: np.ndarray, y: np.ndarray):\n",
    "    #randomly selects 1's from either sides\n",
    "    x1 = np.where(x == 1)[0]\n",
    "    y1 = np.where(y == 1)[0]\n",
    "\n",
    "    ofs1 = []\n",
    "    ofs2 = []\n",
    "    \n",
    "    all = list(set(x1) | set(y1))\n",
    "\n",
    "    # ofs1 = random.randrange(len(test_list))\n",
    "    # ofs1 = all[rand_idx]\n",
    "\n",
    "    ofs1 = make_arr(ofs1)\n",
    "    ofs2 = make_arr(ofs2)    \n",
    "    return ofs1, ofs2"
   ]
  },
  {
   "cell_type": "code",
   "execution_count": 140,
   "metadata": {},
   "outputs": [
    {
     "data": {
      "text/plain": [
       "array([0, 0, 0, 1, 1, 0, 0, 0, 0, 0, 0, 0, 0, 0, 0, 1, 0, 0, 0, 0, 1, 0,\n",
       "       0, 0, 0])"
      ]
     },
     "execution_count": 140,
     "metadata": {},
     "output_type": "execute_result"
    }
   ],
   "source": [
    "make_arr(np.array([3,4,15,20]))"
   ]
  }
 ],
 "metadata": {
  "kernelspec": {
   "display_name": "Python 3.9.12 ('base')",
   "language": "python",
   "name": "python3"
  },
  "language_info": {
   "codemirror_mode": {
    "name": "ipython",
    "version": 3
   },
   "file_extension": ".py",
   "mimetype": "text/x-python",
   "name": "python",
   "nbconvert_exporter": "python",
   "pygments_lexer": "ipython3",
   "version": "3.9.12"
  },
  "orig_nbformat": 4,
  "vscode": {
   "interpreter": {
    "hash": "5179d32cf6ec497baf3f8a3ef987cc77c5d2dc691fdde20a56316522f61a7323"
   }
  }
 },
 "nbformat": 4,
 "nbformat_minor": 2
}
