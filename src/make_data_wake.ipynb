{
 "cells": [
  {
   "cell_type": "code",
   "execution_count": 56,
   "metadata": {},
   "outputs": [],
   "source": [
    "import numpy as np\n",
    "import pandas as pd"
   ]
  },
  {
   "cell_type": "code",
   "execution_count": 57,
   "metadata": {},
   "outputs": [],
   "source": [
    "def dist_meters(x1,y1,x2,y2,wind): #distance between two points in the direction of the wind\n",
    "    a = (x2-x1)*np.cos(np.deg2rad(wind+90)) #add 90 due to orientation \n",
    "    b = (y2-y1)*np.sin(np.deg2rad(wind+90))\n",
    "    return (a+b)*140 #140 is the distance lengths in matrix\n",
    "    "
   ]
  },
  {
   "cell_type": "code",
   "execution_count": 58,
   "metadata": {},
   "outputs": [],
   "source": [
    "def second_val(x1,y1,x2,y2,wind):\n",
    "    #x1,y1 WT1 location\n",
    "    #x2,y2 WT2 location\n",
    "    #wind -wind dir in degrees\n",
    "    r = 75 #150m is the projected diameters for upcoming iterations of off-shore turbines\n",
    "    z0 = 0.04 #wake spreading constant (0.04 recommended for offshore windfarms)\n",
    "    return (r/(r+(z0*abs(dist_meters(x1,y1,x2,y2,wind)))))**2"
   ]
  },
  {
   "cell_type": "code",
   "execution_count": 59,
   "metadata": {},
   "outputs": [],
   "source": [
    "def first_val(sp):\n",
    "    #sp = windspeed in m/s\n",
    "    V = sp * (1.583314688)\n",
    "    C = ((5.47581845 * (10**(-6)) * (V**5.00641402))+1.132584887)**(-1) #Ad modeled by Gualtieri\n",
    "\n",
    "    return (1-np.sqrt(1-C))"
   ]
  },
  {
   "cell_type": "code",
   "execution_count": 60,
   "metadata": {},
   "outputs": [],
   "source": [
    "def third_val(x1,y1,x2,y2,wind):\n",
    "    Ar = 17700 # Rotor swept area of turbine (circumference given the radius)\n",
    "    Dij = dist_meters(x1,y1,x2,y2,wind)\n",
    "    if Dij < 0:\n",
    "        return 0 #given turbine is in the opposite direction of wake from main turbine\n",
    "    RWij = 75 + (0.04*Dij)\n",
    "    ri = 75\n",
    "    DWRij = np.sqrt( (  ((x1)-(x2))**2) + ( ((y1)-(y2))**2) - (Dij/140)**2 ) * 140\n",
    "\n",
    "    if RWij - ri >= DWRij:\n",
    "        return 1\n",
    "    elif RWij + ri <= DWRij:\n",
    "        return 0\n",
    "    \n",
    "    THETAWij = 2*np.arccos(( DWRij**2 + (RWij**2 - ri**2))/(2*DWRij*RWij))\n",
    "    THETArij = 2*np.arccos(( DWRij**2 - (RWij**2 - ri**2))/(2*DWRij*ri))\n",
    "\n",
    "    left_term = RWij**2 * (THETAWij - np.sin(THETAWij))\n",
    "    right_term = ri**2 * (THETArij - np.sin(THETArij))\n",
    "    Ao = 0.5*(left_term + right_term)\n",
    "\n",
    "    return Ao/Ar"
   ]
  },
  {
   "cell_type": "code",
   "execution_count": 61,
   "metadata": {},
   "outputs": [],
   "source": [
    "def interaction(x1,y1,x2,y2,wind,sp):\n",
    "    return first_val(sp)*second_val(x1,y1,x2,y2,wind)*third_val(x1,y1,x2,y2,wind)\n"
   ]
  },
  {
   "cell_type": "code",
   "execution_count": null,
   "metadata": {},
   "outputs": [],
   "source": []
  },
  {
   "cell_type": "code",
   "execution_count": 65,
   "metadata": {},
   "outputs": [],
   "source": [
    "wind = pd.read_csv('wind.csv')"
   ]
  },
  {
   "cell_type": "code",
   "execution_count": 63,
   "metadata": {},
   "outputs": [],
   "source": []
  },
  {
   "cell_type": "code",
   "execution_count": 75,
   "metadata": {},
   "outputs": [],
   "source": [
    "\n",
    "for x in range(50):\n",
    "    for y in range(50):\n",
    "        mat = np.zeros((50,50))\n",
    "        for ind,val in wind.iterrows():\n",
    "            dir = val['dir']\n",
    "            sp = val['speed']\n",
    "            prob = val['prob']\n",
    "\n",
    "            for i in range(50):\n",
    "                for j in range(50):\n",
    "                    \n",
    "                    if not (i == x and j == y):\n",
    "                        \n",
    "                        mat[j,i] += prob * interaction(x,y,i,j,dir,sp)\n",
    "        np.savetxt(\"interactionMats/\"+str(x)+\"_\"+str(y)+\".csv\", mat, delimiter=\",\")"
   ]
  },
  {
   "cell_type": "code",
   "execution_count": 72,
   "metadata": {},
   "outputs": [
    {
     "data": {
      "text/plain": [
       "0.003350066055345979"
      ]
     },
     "execution_count": 72,
     "metadata": {},
     "output_type": "execute_result"
    }
   ],
   "source": []
  },
  {
   "cell_type": "code",
   "execution_count": 71,
   "metadata": {},
   "outputs": [
    {
     "data": {
      "text/plain": [
       "350"
      ]
     },
     "execution_count": 71,
     "metadata": {},
     "output_type": "execute_result"
    }
   ],
   "source": []
  },
  {
   "cell_type": "code",
   "execution_count": null,
   "metadata": {},
   "outputs": [],
   "source": []
  },
  {
   "cell_type": "code",
   "execution_count": 51,
   "metadata": {},
   "outputs": [
    {
     "data": {
      "text/plain": [
       "1"
      ]
     },
     "execution_count": 51,
     "metadata": {},
     "output_type": "execute_result"
    }
   ],
   "source": []
  }
 ],
 "metadata": {
  "kernelspec": {
   "display_name": "Python 3.9.12 ('base')",
   "language": "python",
   "name": "python3"
  },
  "language_info": {
   "codemirror_mode": {
    "name": "ipython",
    "version": 3
   },
   "file_extension": ".py",
   "mimetype": "text/x-python",
   "name": "python",
   "nbconvert_exporter": "python",
   "pygments_lexer": "ipython3",
   "version": "3.9.12"
  },
  "orig_nbformat": 4,
  "vscode": {
   "interpreter": {
    "hash": "5179d32cf6ec497baf3f8a3ef987cc77c5d2dc691fdde20a56316522f61a7323"
   }
  }
 },
 "nbformat": 4,
 "nbformat_minor": 2
}
